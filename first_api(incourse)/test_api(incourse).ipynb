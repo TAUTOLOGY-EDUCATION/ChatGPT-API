{
 "cells": [
  {
   "cell_type": "code",
   "execution_count": 3,
   "id": "c23713b0-71b2-42e1-a2f6-fc7483875ab7",
   "metadata": {},
   "outputs": [
    {
     "name": "stdout",
     "output_type": "stream",
     "text": [
      "<!DOCTYPE HTML PUBLIC \"-//W3C//DTD HTML 3.2 Final//EN\">\n",
      "<title>500 Internal Server Error</title>\n",
      "<h1>Internal Server Error</h1>\n",
      "<p>The server encountered an internal error and was unable to complete your request. Either the server is overloaded or there is an error in the application.</p>\n",
      "\n"
     ]
    }
   ],
   "source": [
    "import requests\n",
    "import json\n",
    "\n",
    "url = \"https://5f6f-184-22-99-230.ngrok-free.app/post2\"\n",
    "\n",
    "payload = json.dumps({\n",
    "  \"search_name\": \"pree\"\n",
    "})\n",
    "\n",
    "headers = {\n",
    "  'Content-Type': 'application/json'\n",
    "}\n",
    "\n",
    "response = requests.request(\"POST\", url, headers=headers, data=payload)\n",
    "\n",
    "print(response.text)"
   ]
  },
  {
   "cell_type": "code",
   "execution_count": 4,
   "id": "b226508d-f3c7-4f91-89b1-3a680b5c279d",
   "metadata": {},
   "outputs": [
    {
     "name": "stdout",
     "output_type": "stream",
     "text": [
      "your teacher age is 27\n"
     ]
    }
   ],
   "source": [
    "import requests\n",
    "\n",
    "url = \"https://5f6f-184-22-99-230.ngrok-free.app/get2?name=pree\"\n",
    "\n",
    "payload = {}\n",
    "\n",
    "headers = {}\n",
    "\n",
    "response = requests.request(\"GET\", url, headers=headers, data=payload)\n",
    "\n",
    "print(response.text)"
   ]
  },
  {
   "cell_type": "code",
   "execution_count": 5,
   "id": "190a339f-317c-4c40-a315-3e92fc13be21",
   "metadata": {},
   "outputs": [
    {
     "name": "stdout",
     "output_type": "stream",
     "text": [
      "your input name is test\n"
     ]
    }
   ],
   "source": [
    "url = \"http://5f6f-184-22-99-230.ngrok-free.app/get1?name=test\"\n",
    "\n",
    "payload = {}\n",
    "\n",
    "headers = {}\n",
    "\n",
    "response = requests.request(\"GET\", url, headers=headers, data=payload)\n",
    "\n",
    "print(response.text)"
   ]
  },
  {
   "cell_type": "code",
   "execution_count": 7,
   "id": "3d891eb3-53c7-47a5-9dcb-9f722151bdcd",
   "metadata": {},
   "outputs": [
    {
     "name": "stdout",
     "output_type": "stream",
     "text": [
      "your input name is pree\n"
     ]
    }
   ],
   "source": [
    "import requests\n",
    "import json\n",
    "\n",
    "url = \"https://5f6f-184-22-99-230.ngrok-free.app/get3?name=pree\"\n",
    "\n",
    "payload = {}\n",
    "\n",
    "headers = {\n",
    "  'password': '12345678'\n",
    "}\n",
    "\n",
    "response = requests.request(\"GET\", url, headers=headers, data=payload)\n",
    "\n",
    "print(response.text)"
   ]
  },
  {
   "cell_type": "code",
   "execution_count": null,
   "id": "41822628-7051-4b15-baef-435c4c4bcc25",
   "metadata": {},
   "outputs": [],
   "source": []
  }
 ],
 "metadata": {
  "kernelspec": {
   "display_name": "Python 3 (ipykernel)",
   "language": "python",
   "name": "python3"
  },
  "language_info": {
   "codemirror_mode": {
    "name": "ipython",
    "version": 3
   },
   "file_extension": ".py",
   "mimetype": "text/x-python",
   "name": "python",
   "nbconvert_exporter": "python",
   "pygments_lexer": "ipython3",
   "version": "3.8.13"
  }
 },
 "nbformat": 4,
 "nbformat_minor": 5
}
