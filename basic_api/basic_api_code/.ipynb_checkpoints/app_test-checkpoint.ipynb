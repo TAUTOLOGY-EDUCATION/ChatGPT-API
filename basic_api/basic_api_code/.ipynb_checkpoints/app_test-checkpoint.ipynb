{
 "cells": [
  {
   "cell_type": "code",
   "execution_count": 1,
   "id": "b31950b1-0f49-4e78-8f52-1a1b9e328f82",
   "metadata": {},
   "outputs": [],
   "source": [
    "import json\n",
    "import requests"
   ]
  },
  {
   "cell_type": "code",
   "execution_count": 2,
   "id": "8033a82d-43b7-4715-99f4-1cb2a402aa8a",
   "metadata": {},
   "outputs": [],
   "source": [
    "your_ngrok_url = \"<you_ngrok_url>\""
   ]
  },
  {
   "cell_type": "code",
   "execution_count": 3,
   "id": "5b698457-f711-4914-a871-e4766b0c97dd",
   "metadata": {},
   "outputs": [
    {
     "name": "stdout",
     "output_type": "stream",
     "text": [
      "your input name is test\n"
     ]
    }
   ],
   "source": [
    "url = f\"{your_ngrok_url}/get1?name=test\"\n",
    "\n",
    "payload = {}\n",
    "headers = {}\n",
    "\n",
    "response = requests.request(\"GET\", url, headers=headers, data=payload)\n",
    "\n",
    "print(response.text)"
   ]
  },
  {
   "cell_type": "code",
   "execution_count": 4,
   "id": "ef28403e-e703-4fe3-8d18-b834636ff65c",
   "metadata": {},
   "outputs": [
    {
     "name": "stdout",
     "output_type": "stream",
     "text": [
      "your teacher age is 27\n"
     ]
    }
   ],
   "source": [
    "url = f\"{your_ngrok_url}/get2?name=pree\"\n",
    "\n",
    "payload = {}\n",
    "headers = {}\n",
    "\n",
    "response = requests.request(\"GET\", url, headers=headers, data=payload)\n",
    "\n",
    "print(response.text)"
   ]
  },
  {
   "cell_type": "code",
   "execution_count": 5,
   "id": "277e45a8-faae-4f72-8361-a74cf846defa",
   "metadata": {},
   "outputs": [
    {
     "name": "stdout",
     "output_type": "stream",
     "text": [
      "your input data is {\"name\": \"test\"}\n"
     ]
    }
   ],
   "source": [
    "url = f\"{your_ngrok_url}/post1\"\n",
    "\n",
    "payload = json.dumps({\"name\": \"test\"})\n",
    "headers = {\"Content-Type\": \"application/json\"}\n",
    "\n",
    "response = requests.request(\"POST\", url, headers=headers, data=payload)\n",
    "\n",
    "print(response.text)"
   ]
  },
  {
   "cell_type": "code",
   "execution_count": 6,
   "id": "f78095d4-faf6-4185-b2e9-021f13aafb1f",
   "metadata": {},
   "outputs": [
    {
     "name": "stdout",
     "output_type": "stream",
     "text": [
      "your teacher age is 28\n"
     ]
    }
   ],
   "source": [
    "url = f\"{your_ngrok_url}/post2\"\n",
    "\n",
    "payload = json.dumps({\"search_name\": \"krin\"})\n",
    "headers = {\"Content-Type\": \"application/json\"}\n",
    "\n",
    "response = requests.request(\"POST\", url, headers=headers, data=payload)\n",
    "\n",
    "print(response.text)"
   ]
  },
  {
   "cell_type": "code",
   "execution_count": 7,
   "id": "a175d1d4-b151-4bac-84aa-de9cbb13af1e",
   "metadata": {},
   "outputs": [
    {
     "name": "stdout",
     "output_type": "stream",
     "text": [
      "your input name is pree\n"
     ]
    }
   ],
   "source": [
    "url = f\"{your_ngrok_url}/get3?name=pree\"\n",
    "\n",
    "payload = {}\n",
    "headers = {\"password\":\"12345678\"}\n",
    "\n",
    "response = requests.request(\"GET\", url, headers=headers, data=payload)\n",
    "\n",
    "print(response.text)"
   ]
  },
  {
   "cell_type": "code",
   "execution_count": 8,
   "id": "c39eca87-e9c0-4b54-8b1d-6fb9ac35d1b1",
   "metadata": {},
   "outputs": [
    {
     "name": "stdout",
     "output_type": "stream",
     "text": [
      "your input data is {\"search_name\": \"pree\"}\n"
     ]
    }
   ],
   "source": [
    "url = f\"{your_ngrok_url}/post3\"\n",
    "\n",
    "payload = json.dumps({\n",
    "  \"search_name\": \"pree\"\n",
    "})\n",
    "headers = {\n",
    "  'password': '12345678',\n",
    "  'Content-Type': 'application/json'\n",
    "}\n",
    "\n",
    "response = requests.request(\"POST\", url, headers=headers, data=payload)\n",
    "\n",
    "print(response.text)"
   ]
  },
  {
   "cell_type": "code",
   "execution_count": null,
   "id": "d68218e7-d81d-4a85-956d-706e6500cfa6",
   "metadata": {},
   "outputs": [],
   "source": []
  }
 ],
 "metadata": {
  "kernelspec": {
   "display_name": "Python 3 (ipykernel)",
   "language": "python",
   "name": "python3"
  },
  "language_info": {
   "codemirror_mode": {
    "name": "ipython",
    "version": 3
   },
   "file_extension": ".py",
   "mimetype": "text/x-python",
   "name": "python",
   "nbconvert_exporter": "python",
   "pygments_lexer": "ipython3",
   "version": "3.8.13"
  }
 },
 "nbformat": 4,
 "nbformat_minor": 5
}
