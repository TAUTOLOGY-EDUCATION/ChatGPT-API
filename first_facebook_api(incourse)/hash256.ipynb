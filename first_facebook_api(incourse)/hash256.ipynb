{
 "cells": [
  {
   "cell_type": "code",
   "execution_count": 2,
   "id": "5eca0163-f855-4b83-a0fc-e3a81b4c2cb9",
   "metadata": {},
   "outputs": [],
   "source": [
    "import hmac\n",
    "import hashlib\n",
    "import json"
   ]
  },
  {
   "cell_type": "code",
   "execution_count": 3,
   "id": "bd93a23d-8cec-4946-a664-a6b1a8bb6aa9",
   "metadata": {},
   "outputs": [],
   "source": [
    "app_secret = \"98110ea57d51f9afdbb37137763ee68b\""
   ]
  },
  {
   "cell_type": "code",
   "execution_count": 6,
   "id": "a7330540-6369-4eec-9a05-1edc15f6aebe",
   "metadata": {},
   "outputs": [],
   "source": [
    "key = bytes(app_secret, 'UTF-8')\n",
    "minified_json = '{\"object\":\"page\",\"entry\":[{\"id\":\"100791973054202\",\"time\":1686453671501,\"messaging\":[{\"sender\":{\"id\":\"4650658961724453\"},\"recipient\":{\"id\":\"100791973054202\"},\"timestamp\":1686453671157,\"message\":{\"mid\":\"m_iyerk3FaAkPmnGb7ahoRILm8CAEz1QEc3K0Y8CkIxmDYU0I4hzDRE8fDXlGbzABxn-upvpv8bff2vjeSXoudAA\",\"text\":\"hi + hell\"}}]}]}'\n",
    "expectedHash = hmac.new(key, msg=minified_json.encode('utf-8'), digestmod=hashlib.sha256).hexdigest()"
   ]
  },
  {
   "cell_type": "code",
   "execution_count": 7,
   "id": "5a099ba6-b447-4aa8-8d8f-7ee883ebaa33",
   "metadata": {},
   "outputs": [
    {
     "data": {
      "text/plain": [
       "'2e1317746e76f3c2f2134693e2c77fc54cffdcd13dcb41b321d3e91a361fdcd2'"
      ]
     },
     "execution_count": 7,
     "metadata": {},
     "output_type": "execute_result"
    }
   ],
   "source": [
    "expectedHash"
   ]
  },
  {
   "cell_type": "code",
   "execution_count": null,
   "id": "1ed14fe2-cf60-4af7-9c18-0c0c75c8f82e",
   "metadata": {},
   "outputs": [],
   "source": []
  }
 ],
 "metadata": {
  "kernelspec": {
   "display_name": "Python 3 (ipykernel)",
   "language": "python",
   "name": "python3"
  },
  "language_info": {
   "codemirror_mode": {
    "name": "ipython",
    "version": 3
   },
   "file_extension": ".py",
   "mimetype": "text/x-python",
   "name": "python",
   "nbconvert_exporter": "python",
   "pygments_lexer": "ipython3",
   "version": "3.8.13"
  }
 },
 "nbformat": 4,
 "nbformat_minor": 5
}
